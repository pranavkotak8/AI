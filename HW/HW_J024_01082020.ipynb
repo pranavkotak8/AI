{
  "nbformat": 4,
  "nbformat_minor": 0,
  "metadata": {
    "colab": {
      "name": "HW_J024_01082020.ipynb",
      "provenance": [],
      "collapsed_sections": [],
      "authorship_tag": "ABX9TyPvg+KL1ydKhklr5bpcV0If",
      "include_colab_link": true
    },
    "kernelspec": {
      "name": "python3",
      "display_name": "Python 3"
    }
  },
  "cells": [
    {
      "cell_type": "markdown",
      "metadata": {
        "id": "view-in-github",
        "colab_type": "text"
      },
      "source": [
        "<a href=\"https://colab.research.google.com/github/pranavkotak8/AI/blob/master/HW/HW_J024_01082020.ipynb\" target=\"_parent\"><img src=\"https://colab.research.google.com/assets/colab-badge.svg\" alt=\"Open In Colab\"/></a>"
      ]
    },
    {
      "cell_type": "markdown",
      "metadata": {
        "id": "83-RTPfcya8k",
        "colab_type": "text"
      },
      "source": [
        "# Q1. Validating Postal Codes"
      ]
    },
    {
      "cell_type": "code",
      "metadata": {
        "id": "k8tg5W5TvgPc",
        "colab_type": "code",
        "colab": {
          "base_uri": "https://localhost:8080/",
          "height": 52
        },
        "outputId": "661c724a-9e69-496d-c6a9-e5b293fef7d6"
      },
      "source": [
        "regex_integer_in_range = r\"^[1-9][\\d]{5}$\"\t# Do not delete 'r'.\n",
        "regex_alternating_repetitive_digit_pair = r\"(.)(?=.\\1)\"\t# Do not delete 'r'.\n",
        "import re\n",
        "P = input()\n",
        "print (bool(re.match(regex_integer_in_range, P)) \n",
        "and len(re.findall(regex_alternating_repetitive_digit_pair, P)) < 2)"
      ],
      "execution_count": 64,
      "outputs": [
        {
          "output_type": "stream",
          "text": [
            "110000\n",
            "False\n"
          ],
          "name": "stdout"
        }
      ]
    },
    {
      "cell_type": "markdown",
      "metadata": {
        "id": "NwnKhbhgykRy",
        "colab_type": "text"
      },
      "source": [
        "# Q2. The Coin Change Problem "
      ]
    },
    {
      "cell_type": "code",
      "metadata": {
        "id": "ibzhv8dAgTWX",
        "colab_type": "code",
        "colab": {}
      },
      "source": [
        "def coin_change(n,m,c):\n",
        "    table = [0 for k in range(n+1)] \n",
        "    table[0] = 1\n",
        "    for i in range(0,m): \n",
        "        for j in range(c[i],n+1): \n",
        "            table[j] += table[j-c[i]] \n",
        "    return table[n] \n",
        "\n",
        "n,m= map(int,input().split())\n",
        "array_input = list(map(int, input().split()))\n",
        "num_of_ways = coin_change(n,m,array_input) \n",
        "print(num_of_ways) "
      ],
      "execution_count": null,
      "outputs": []
    },
    {
      "cell_type": "markdown",
      "metadata": {
        "id": "jREHtgG2uioa",
        "colab_type": "text"
      },
      "source": [
        "# Q3. Sherlock and Cost"
      ]
    },
    {
      "cell_type": "code",
      "metadata": {
        "id": "dOdljnsjwW9Z",
        "colab_type": "code",
        "colab": {
          "base_uri": "https://localhost:8080/",
          "height": 88
        },
        "outputId": "df8a7354-eb2e-473b-c619-627d9725a946"
      },
      "source": [
        "def sh_cost(N, b):\n",
        "    r = [[0, 0] for i in range(N)]\n",
        "    for i in range(1, N):\n",
        "        r[i][0] = max(r[i-1][0], r[i-1][1] + abs(b[i-1] - 1))\n",
        "        r[i][1] = max(r[i-1][0] + abs(b[i] - 1), r[i-1][1] + abs(b[i] - b[i-1]))\n",
        "\n",
        "    print(max(r[N-1][0], r[N-1][1]))\n",
        "\n",
        "Input1 = int(input())\n",
        "for i in range(Input1):\n",
        "    N = int(input())\n",
        "    B = [int(i) for i in input().split(' ')]\n",
        "    sh_cost(N, B)"
      ],
      "execution_count": 63,
      "outputs": [
        {
          "output_type": "stream",
          "text": [
            "1\n",
            "5\n",
            "10 1 10 1 10\n",
            "36\n"
          ],
          "name": "stdout"
        }
      ]
    }
  ]
}