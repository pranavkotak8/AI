{
  "nbformat": 4,
  "nbformat_minor": 0,
  "metadata": {
    "colab": {
      "name": "CW_J024_04072020.ipynb",
      "provenance": [],
      "collapsed_sections": [],
      "authorship_tag": "ABX9TyMyEGpk7X6ykQNIHlOD7+dj"
    },
    "kernelspec": {
      "name": "python3",
      "display_name": "Python 3"
    }
  },
  "cells": [
    {
      "cell_type": "markdown",
      "metadata": {
        "id": "i-OWS25kQp8h",
        "colab_type": "text"
      },
      "source": [
        "**Introduction to Python Basics**"
      ]
    },
    {
      "cell_type": "markdown",
      "metadata": {
        "id": "4oC4MiioQyzj",
        "colab_type": "text"
      },
      "source": [
        "*Defining Lists,Tuples,Sets and Dictionaries.*"
      ]
    },
    {
      "cell_type": "code",
      "metadata": {
        "id": "ar9W4xXvF2is",
        "colab_type": "code",
        "colab": {}
      },
      "source": [
        "#list\n",
        "\n",
        "d_list=[1,2,3,4,5,6,8,'hi']\n",
        "\n",
        "#tuple\n",
        "\n",
        "d_tuple=(1,2,3,4,5,6,8,'hi')\n",
        "\n",
        "#set\n",
        "\n",
        "d_set={1,2,3,4,5,6,8,'hi'}\n",
        "\n",
        "#dict\n",
        "d_dict={'list':[1,2,3,4,5,6,8,'hi'],\n",
        "        'tuple':(1,2,3,4,5,6,8,'hi'),\n",
        "        'set':{1,2,3,4,5,6,8,'hi'},\n",
        "        }\n"
      ],
      "execution_count": null,
      "outputs": []
    },
    {
      "cell_type": "code",
      "metadata": {
        "id": "qUhTbJXkb825",
        "colab_type": "code",
        "colab": {
          "base_uri": "https://localhost:8080/",
          "height": 34
        },
        "outputId": "360f7d63-2616-4f23-a649-f16559ec9c08"
      },
      "source": [
        "d_list"
      ],
      "execution_count": null,
      "outputs": [
        {
          "output_type": "execute_result",
          "data": {
            "text/plain": [
              "[1, 2, 3, 4, 5, 6, 8, 'hi']"
            ]
          },
          "metadata": {
            "tags": []
          },
          "execution_count": 88
        }
      ]
    },
    {
      "cell_type": "code",
      "metadata": {
        "id": "h_najSE6b-T1",
        "colab_type": "code",
        "colab": {
          "base_uri": "https://localhost:8080/",
          "height": 34
        },
        "outputId": "c7a416f0-e873-4fd6-d61c-45ea202eefed"
      },
      "source": [
        "d_tuple"
      ],
      "execution_count": null,
      "outputs": [
        {
          "output_type": "execute_result",
          "data": {
            "text/plain": [
              "(1, 2, 3, 4, 5, 6, 8, 'hi')"
            ]
          },
          "metadata": {
            "tags": []
          },
          "execution_count": 89
        }
      ]
    },
    {
      "cell_type": "code",
      "metadata": {
        "id": "JtxHb6Jyb_9O",
        "colab_type": "code",
        "colab": {
          "base_uri": "https://localhost:8080/",
          "height": 34
        },
        "outputId": "7bad1022-d964-4427-e487-acc708825f60"
      },
      "source": [
        "d_set"
      ],
      "execution_count": null,
      "outputs": [
        {
          "output_type": "execute_result",
          "data": {
            "text/plain": [
              "{1, 2, 3, 4, 5, 6, 8, 'hi'}"
            ]
          },
          "metadata": {
            "tags": []
          },
          "execution_count": 90
        }
      ]
    },
    {
      "cell_type": "code",
      "metadata": {
        "id": "MagH6ksRcB6G",
        "colab_type": "code",
        "colab": {
          "base_uri": "https://localhost:8080/",
          "height": 67
        },
        "outputId": "e0cd46f5-c08c-4fd7-bdb2-198a03990992"
      },
      "source": [
        "d_dict"
      ],
      "execution_count": null,
      "outputs": [
        {
          "output_type": "execute_result",
          "data": {
            "text/plain": [
              "{'list': [1, 2, 3, 4, 5, 6, 8, 'hi'],\n",
              " 'set': {1, 2, 3, 4, 5, 6, 8, 'hi'},\n",
              " 'tuple': (1, 2, 3, 4, 5, 6, 8, 'hi')}"
            ]
          },
          "metadata": {
            "tags": []
          },
          "execution_count": 91
        }
      ]
    },
    {
      "cell_type": "markdown",
      "metadata": {
        "id": "sFGZJUpeWqLY",
        "colab_type": "text"
      },
      "source": [
        "*We have to declare an empty set by the set function and not by set={} since it will treat that as a dictionary in Python.*"
      ]
    },
    {
      "cell_type": "code",
      "metadata": {
        "id": "GTYQlQwWF8wo",
        "colab_type": "code",
        "colab": {}
      },
      "source": [
        "d_set_empty=set()"
      ],
      "execution_count": null,
      "outputs": []
    },
    {
      "cell_type": "code",
      "metadata": {
        "id": "mHj7cJhRF8zX",
        "colab_type": "code",
        "colab": {
          "base_uri": "https://localhost:8080/",
          "height": 34
        },
        "outputId": "0a3024de-0cc3-4366-cff5-9aec7f0a1666"
      },
      "source": [
        "d_set_empty"
      ],
      "execution_count": null,
      "outputs": [
        {
          "output_type": "execute_result",
          "data": {
            "text/plain": [
              "set()"
            ]
          },
          "metadata": {
            "tags": []
          },
          "execution_count": 93
        }
      ]
    },
    {
      "cell_type": "code",
      "metadata": {
        "id": "c8QKDN-sW04q",
        "colab_type": "code",
        "colab": {}
      },
      "source": [
        "d_set1={}"
      ],
      "execution_count": null,
      "outputs": []
    },
    {
      "cell_type": "code",
      "metadata": {
        "id": "xQA7BhbSW3j6",
        "colab_type": "code",
        "colab": {
          "base_uri": "https://localhost:8080/",
          "height": 34
        },
        "outputId": "b65f22fd-05a0-47c1-d57f-0a3882390746"
      },
      "source": [
        "type(d_set1)"
      ],
      "execution_count": null,
      "outputs": [
        {
          "output_type": "execute_result",
          "data": {
            "text/plain": [
              "dict"
            ]
          },
          "metadata": {
            "tags": []
          },
          "execution_count": 95
        }
      ]
    },
    {
      "cell_type": "code",
      "metadata": {
        "id": "M-etVCI6bfgJ",
        "colab_type": "code",
        "colab": {}
      },
      "source": [
        "d_set_duplicheck={56,41,41,56,936,13250}"
      ],
      "execution_count": null,
      "outputs": []
    },
    {
      "cell_type": "code",
      "metadata": {
        "id": "m6_Cv3k4bfpF",
        "colab_type": "code",
        "colab": {
          "base_uri": "https://localhost:8080/",
          "height": 34
        },
        "outputId": "2fa6a249-c342-46a0-bb25-bc71d6695cc3"
      },
      "source": [
        "d_set_duplicheck\n",
        "# So we can see it does not print duplicates."
      ],
      "execution_count": null,
      "outputs": [
        {
          "output_type": "execute_result",
          "data": {
            "text/plain": [
              "{41, 56, 936, 13250}"
            ]
          },
          "metadata": {
            "tags": []
          },
          "execution_count": 97
        }
      ]
    },
    {
      "cell_type": "markdown",
      "metadata": {
        "id": "V77EmJYRXBCi",
        "colab_type": "text"
      },
      "source": [
        "*Nested Lists*"
      ]
    },
    {
      "cell_type": "code",
      "metadata": {
        "id": "GVq4WYdGLEpW",
        "colab_type": "code",
        "colab": {}
      },
      "source": [
        "#Nested Lists\n",
        "d_list_nested=[[1,2,3,4,5,6,8,'hi'],[25,12,3.56,'hello']]"
      ],
      "execution_count": null,
      "outputs": []
    },
    {
      "cell_type": "code",
      "metadata": {
        "id": "lE_gj6fVLEsI",
        "colab_type": "code",
        "colab": {
          "base_uri": "https://localhost:8080/",
          "height": 34
        },
        "outputId": "78548085-8315-4f52-921b-c4fedcbb5b2f"
      },
      "source": [
        "d_list_nested"
      ],
      "execution_count": null,
      "outputs": [
        {
          "output_type": "execute_result",
          "data": {
            "text/plain": [
              "[[1, 2, 3, 4, 5, 6, 8, 'hi'], [25, 12, 3.56, 'hello']]"
            ]
          },
          "metadata": {
            "tags": []
          },
          "execution_count": 99
        }
      ]
    },
    {
      "cell_type": "code",
      "metadata": {
        "id": "IL7YaWj8F83A",
        "colab_type": "code",
        "colab": {}
      },
      "source": [
        "set1=[23,45,6,73,'p']"
      ],
      "execution_count": null,
      "outputs": []
    },
    {
      "cell_type": "code",
      "metadata": {
        "id": "5QernkSaMobu",
        "colab_type": "code",
        "colab": {
          "base_uri": "https://localhost:8080/",
          "height": 178
        },
        "outputId": "e78c38bb-373f-411b-a6db-427ff926d639"
      },
      "source": [
        "{set1}\n",
        "#Set cannot contain lists since lists are mutable."
      ],
      "execution_count": null,
      "outputs": [
        {
          "output_type": "error",
          "ename": "TypeError",
          "evalue": "ignored",
          "traceback": [
            "\u001b[0;31m---------------------------------------------------------------------------\u001b[0m",
            "\u001b[0;31mTypeError\u001b[0m                                 Traceback (most recent call last)",
            "\u001b[0;32m<ipython-input-101-ad31934072e9>\u001b[0m in \u001b[0;36m<module>\u001b[0;34m()\u001b[0m\n\u001b[0;32m----> 1\u001b[0;31m \u001b[0;34m{\u001b[0m\u001b[0mset1\u001b[0m\u001b[0;34m}\u001b[0m\u001b[0;34m\u001b[0m\u001b[0;34m\u001b[0m\u001b[0m\n\u001b[0m\u001b[1;32m      2\u001b[0m \u001b[0;31m#Set cannot contain lists since lists are mutable.\u001b[0m\u001b[0;34m\u001b[0m\u001b[0;34m\u001b[0m\u001b[0;34m\u001b[0m\u001b[0m\n",
            "\u001b[0;31mTypeError\u001b[0m: unhashable type: 'list'"
          ]
        }
      ]
    },
    {
      "cell_type": "code",
      "metadata": {
        "id": "QhpqIr-tMxS8",
        "colab_type": "code",
        "colab": {}
      },
      "source": [
        "set2={'x':6,'w':2.562,'f':6.0}\n",
        "#Set cannot contain dictionary since dictionaries are mutable."
      ],
      "execution_count": null,
      "outputs": []
    },
    {
      "cell_type": "code",
      "metadata": {
        "id": "vjjzcS0hM9wE",
        "colab_type": "code",
        "colab": {
          "base_uri": "https://localhost:8080/",
          "height": 162
        },
        "outputId": "027fd4e6-0629-49ba-e061-1e7f1301b681"
      },
      "source": [
        "{set2}"
      ],
      "execution_count": null,
      "outputs": [
        {
          "output_type": "error",
          "ename": "TypeError",
          "evalue": "ignored",
          "traceback": [
            "\u001b[0;31m---------------------------------------------------------------------------\u001b[0m",
            "\u001b[0;31mTypeError\u001b[0m                                 Traceback (most recent call last)",
            "\u001b[0;32m<ipython-input-103-6354ef8fee58>\u001b[0m in \u001b[0;36m<module>\u001b[0;34m()\u001b[0m\n\u001b[0;32m----> 1\u001b[0;31m \u001b[0;34m{\u001b[0m\u001b[0mset2\u001b[0m\u001b[0;34m}\u001b[0m\u001b[0;34m\u001b[0m\u001b[0;34m\u001b[0m\u001b[0m\n\u001b[0m",
            "\u001b[0;31mTypeError\u001b[0m: unhashable type: 'dict'"
          ]
        }
      ]
    },
    {
      "cell_type": "code",
      "metadata": {
        "id": "-ecaUh0iM9zF",
        "colab_type": "code",
        "colab": {
          "base_uri": "https://localhost:8080/",
          "height": 178
        },
        "outputId": "14b07ca5-a1dc-47c2-b4cd-201f80743e69"
      },
      "source": [
        "# An example where we can see set does not have any type of indexing supported.\n",
        "d_set[1]"
      ],
      "execution_count": null,
      "outputs": [
        {
          "output_type": "error",
          "ename": "TypeError",
          "evalue": "ignored",
          "traceback": [
            "\u001b[0;31m---------------------------------------------------------------------------\u001b[0m",
            "\u001b[0;31mTypeError\u001b[0m                                 Traceback (most recent call last)",
            "\u001b[0;32m<ipython-input-104-4775118227b5>\u001b[0m in \u001b[0;36m<module>\u001b[0;34m()\u001b[0m\n\u001b[1;32m      1\u001b[0m \u001b[0;31m# An example where we can see set does not have any type of indexing supported.\u001b[0m\u001b[0;34m\u001b[0m\u001b[0;34m\u001b[0m\u001b[0;34m\u001b[0m\u001b[0m\n\u001b[0;32m----> 2\u001b[0;31m \u001b[0md_set\u001b[0m\u001b[0;34m[\u001b[0m\u001b[0;36m1\u001b[0m\u001b[0;34m]\u001b[0m\u001b[0;34m\u001b[0m\u001b[0;34m\u001b[0m\u001b[0m\n\u001b[0m",
            "\u001b[0;31mTypeError\u001b[0m: 'set' object does not support indexing"
          ]
        }
      ]
    },
    {
      "cell_type": "code",
      "metadata": {
        "id": "_ot9iS98M91j",
        "colab_type": "code",
        "colab": {}
      },
      "source": [
        "d_set={-56,-78,'over',17,2,3,987,4,5,6,8,'hi'}"
      ],
      "execution_count": null,
      "outputs": []
    },
    {
      "cell_type": "code",
      "metadata": {
        "id": "e0EkQhtQM952",
        "colab_type": "code",
        "colab": {
          "base_uri": "https://localhost:8080/",
          "height": 34
        },
        "outputId": "983b01c2-8d94-42d7-bd4c-251b5617367e"
      },
      "source": [
        "#Popping out elements from the Set - the pop function removes random element from the given set.\n",
        "d_set.pop()"
      ],
      "execution_count": null,
      "outputs": [
        {
          "output_type": "execute_result",
          "data": {
            "text/plain": [
              "2"
            ]
          },
          "metadata": {
            "tags": []
          },
          "execution_count": 106
        }
      ]
    },
    {
      "cell_type": "code",
      "metadata": {
        "id": "3Dx7wlobQ2Sq",
        "colab_type": "code",
        "colab": {
          "base_uri": "https://localhost:8080/",
          "height": 34
        },
        "outputId": "d6da90ff-d844-4fc1-d756-d31ba52850c0"
      },
      "source": [
        "d_set.pop()"
      ],
      "execution_count": null,
      "outputs": [
        {
          "output_type": "execute_result",
          "data": {
            "text/plain": [
              "-56"
            ]
          },
          "metadata": {
            "tags": []
          },
          "execution_count": 111
        }
      ]
    },
    {
      "cell_type": "code",
      "metadata": {
        "id": "JNiy3mIOU6DB",
        "colab_type": "code",
        "colab": {
          "base_uri": "https://localhost:8080/",
          "height": 34
        },
        "outputId": "3029cf04-b620-42b0-d4be-4ea925925a21"
      },
      "source": [
        "d_set.pop()"
      ],
      "execution_count": null,
      "outputs": [
        {
          "output_type": "execute_result",
          "data": {
            "text/plain": [
              "4"
            ]
          },
          "metadata": {
            "tags": []
          },
          "execution_count": 108
        }
      ]
    },
    {
      "cell_type": "code",
      "metadata": {
        "id": "H65acPqJc3uZ",
        "colab_type": "code",
        "colab": {}
      },
      "source": [
        "d_set3={-56,-78,'over',17,2,3,987,4,5,6,8,'hi'}"
      ],
      "execution_count": null,
      "outputs": []
    },
    {
      "cell_type": "code",
      "metadata": {
        "id": "jylOm1VNc5AW",
        "colab_type": "code",
        "colab": {}
      },
      "source": [
        "d_set4={1,2,3,57,-78,'hi'}"
      ],
      "execution_count": null,
      "outputs": []
    },
    {
      "cell_type": "code",
      "metadata": {
        "id": "73wGRTtNYv2w",
        "colab_type": "code",
        "colab": {
          "base_uri": "https://localhost:8080/",
          "height": 34
        },
        "outputId": "4aa40d93-9e86-4cc0-dba1-c3070ad927cd"
      },
      "source": [
        "#Union of Two sets\n",
        "d_set_union=d_set3.union(d_set4)\n",
        "d_set_union"
      ],
      "execution_count": null,
      "outputs": [
        {
          "output_type": "execute_result",
          "data": {
            "text/plain": [
              "{-56, -78, 1, 17, 2, 3, 4, 5, 57, 6, 8, 987, 'hi', 'over'}"
            ]
          },
          "metadata": {
            "tags": []
          },
          "execution_count": 146
        }
      ]
    },
    {
      "cell_type": "code",
      "metadata": {
        "id": "I8hdhhHaZyKz",
        "colab_type": "code",
        "colab": {
          "base_uri": "https://localhost:8080/",
          "height": 34
        },
        "outputId": "9c41ddd4-a972-4d81-b03b-eb8a52c20575"
      },
      "source": [
        "#Intersection of Two Sets\n",
        "d_set_intersect=d_set3.intersection(d_set4)\n",
        "d_set_intersect"
      ],
      "execution_count": null,
      "outputs": [
        {
          "output_type": "execute_result",
          "data": {
            "text/plain": [
              "{-78, 2, 3, 'hi'}"
            ]
          },
          "metadata": {
            "tags": []
          },
          "execution_count": 147
        }
      ]
    },
    {
      "cell_type": "code",
      "metadata": {
        "id": "skbyN9nMasc4",
        "colab_type": "code",
        "colab": {}
      },
      "source": [
        "#Adding and Removing of elements in Sets\n",
        "d_set3.add(6930)\n",
        "d_set4.remove('hi')"
      ],
      "execution_count": null,
      "outputs": []
    },
    {
      "cell_type": "code",
      "metadata": {
        "id": "KEUWd2fubNM6",
        "colab_type": "code",
        "colab": {
          "base_uri": "https://localhost:8080/",
          "height": 34
        },
        "outputId": "643a95ce-2e9e-454d-c1ef-cf42e6426905"
      },
      "source": [
        "d_set3"
      ],
      "execution_count": null,
      "outputs": [
        {
          "output_type": "execute_result",
          "data": {
            "text/plain": [
              "{-56, -78, 17, 2, 3, 4, 5, 6, 6930, 8, 987, 'hi', 'over'}"
            ]
          },
          "metadata": {
            "tags": []
          },
          "execution_count": 149
        }
      ]
    },
    {
      "cell_type": "code",
      "metadata": {
        "id": "Vhv5u4-gbNdO",
        "colab_type": "code",
        "colab": {
          "base_uri": "https://localhost:8080/",
          "height": 34
        },
        "outputId": "cb07e939-8f16-4e10-805a-4b4f0e06d663"
      },
      "source": [
        "d_set4"
      ],
      "execution_count": null,
      "outputs": [
        {
          "output_type": "execute_result",
          "data": {
            "text/plain": [
              "{-78, 1, 2, 3, 57}"
            ]
          },
          "metadata": {
            "tags": []
          },
          "execution_count": 150
        }
      ]
    }
  ]
}