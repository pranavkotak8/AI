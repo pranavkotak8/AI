{
  "nbformat": 4,
  "nbformat_minor": 0,
  "metadata": {
    "colab": {
      "name": "AI_CW_01082020_DynamicProgramming.ipynb",
      "provenance": [],
      "collapsed_sections": [],
      "authorship_tag": "ABX9TyOMxntTZj8Vry4RixckhzY2",
      "include_colab_link": true
    },
    "kernelspec": {
      "name": "python3",
      "display_name": "Python 3"
    }
  },
  "cells": [
    {
      "cell_type": "markdown",
      "metadata": {
        "id": "view-in-github",
        "colab_type": "text"
      },
      "source": [
        "<a href=\"https://colab.research.google.com/github/pranavkotak8/AI/blob/master/CW/AI_CW_01082020_DynamicProgramming.ipynb\" target=\"_parent\"><img src=\"https://colab.research.google.com/assets/colab-badge.svg\" alt=\"Open In Colab\"/></a>"
      ]
    },
    {
      "cell_type": "markdown",
      "metadata": {
        "id": "mDwLlYbGCMWH",
        "colab_type": "text"
      },
      "source": [
        "Dynamic Programming"
      ]
    },
    {
      "cell_type": "code",
      "metadata": {
        "id": "YC3afgZXC8TW",
        "colab_type": "code",
        "colab": {}
      },
      "source": [
        "#Recursion - a function calls itself again and again."
      ],
      "execution_count": 5,
      "outputs": []
    },
    {
      "cell_type": "code",
      "metadata": {
        "id": "4ODFlidgG5B7",
        "colab_type": "code",
        "colab": {}
      },
      "source": [
        "def fact_simple(x):\n",
        "  if x < 0:\n",
        "    print(\"not exists\")\n",
        "  elif x == 0:\n",
        "    print(1)\n",
        "  else:\n",
        "    fact=1\n",
        "    for i in range(1,1+x):\n",
        "      fact=fact*i \n",
        "  print(fact)\n",
        "def factorial_recursion(x):\n",
        "    factor=1\n",
        "    if (x==0):\n",
        "        return factor\n",
        "    else:\n",
        "        return x*factorial_recursion(x-1)"
      ],
      "execution_count": 7,
      "outputs": []
    },
    {
      "cell_type": "code",
      "metadata": {
        "id": "htVqeEq9HLO3",
        "colab_type": "code",
        "colab": {
          "base_uri": "https://localhost:8080/",
          "height": 35
        },
        "outputId": "fa4e4194-3e48-499e-ed3e-fcb9da684088"
      },
      "source": [
        "fact_simple(7)"
      ],
      "execution_count": 8,
      "outputs": [
        {
          "output_type": "stream",
          "text": [
            "5040\n"
          ],
          "name": "stdout"
        }
      ]
    },
    {
      "cell_type": "code",
      "metadata": {
        "id": "RonwVDhjJ4rk",
        "colab_type": "code",
        "colab": {}
      },
      "source": [
        "#Fibonacci\n",
        "#011235813\n",
        "# Property\n",
        "# Base Case - sum(0,1)\n",
        "# nth number is sum of previous two numbers num(n)=sum(num(n-1),num(n-2))"
      ],
      "execution_count": 9,
      "outputs": []
    },
    {
      "cell_type": "code",
      "metadata": {
        "id": "X2sXikRqMzUs",
        "colab_type": "code",
        "colab": {}
      },
      "source": [
        "def fibonacci_series(n):\n",
        "  if n < 0:\n",
        "    print(\"not valid\")\n",
        "  elif n == 0:\n",
        "    return 0\n",
        "  elif n == 1:\n",
        "    return 1\n",
        "  else:\n",
        "    return fibonacci_series(n-1)+fibonacci_series(n-2)\n",
        "\n"
      ],
      "execution_count": 10,
      "outputs": []
    },
    {
      "cell_type": "code",
      "metadata": {
        "id": "8Lpt7ckxdCR2",
        "colab_type": "code",
        "colab": {
          "base_uri": "https://localhost:8080/",
          "height": 319
        },
        "outputId": "23a4d7e1-4df3-45c5-f184-3402692aecba"
      },
      "source": [
        " n=int(input(\"Enter the no. of terms:\")) \n",
        "  \n",
        "if n<=0:\n",
        "  print(\"entered number is not valid.\")  \n",
        "else:  \n",
        "   print(\"Fibonacci sequence is:\")  \n",
        "   for i in range(n):  \n",
        "       print(fibonacci_series(i))"
      ],
      "execution_count": 11,
      "outputs": [
        {
          "output_type": "stream",
          "text": [
            "Enter the no. of terms:15\n",
            "Fibonacci sequence is:\n",
            "0\n",
            "1\n",
            "1\n",
            "2\n",
            "3\n",
            "5\n",
            "8\n",
            "13\n",
            "21\n",
            "34\n",
            "55\n",
            "89\n",
            "144\n",
            "233\n",
            "377\n"
          ],
          "name": "stdout"
        }
      ]
    },
    {
      "cell_type": "markdown",
      "metadata": {
        "id": "GyTJjrOaDDvP",
        "colab_type": "text"
      },
      "source": [
        "# Recursion - Function calling  itself during execution\n",
        "1+2+3+4\\n\n",
        "\n",
        "1+2=3 #Sum(1,2)\n",
        "\n",
        "3+3=6 #Sum(Sum(1,2),3)\n",
        "\n",
        "6+4=10 #Sum(Sum(Sum(1,2),3),4)\n",
        "\n",
        "# Memoisation ~Memorandum(Latin)\n",
        "\n",
        "Storing intermediate values, through various ways"
      ]
    },
    {
      "cell_type": "code",
      "metadata": {
        "id": "c10_OBuSE8-j",
        "colab_type": "code",
        "colab": {}
      },
      "source": [
        "#Binary Search\n",
        "\n",
        "list=[52,982,2]\n",
        "\n",
        "list1=list.copy().sort()\n",
        "\n",
        "list1"
      ],
      "execution_count": 12,
      "outputs": []
    },
    {
      "cell_type": "code",
      "metadata": {
        "id": "wtTIueznWtaI",
        "colab_type": "code",
        "colab": {
          "base_uri": "https://localhost:8080/",
          "height": 35
        },
        "outputId": "8bf67ba4-ae34-4e25-80e8-b59a1376d7a4"
      },
      "source": [
        "list"
      ],
      "execution_count": 13,
      "outputs": [
        {
          "output_type": "execute_result",
          "data": {
            "text/plain": [
              "[52, 982, 2]"
            ]
          },
          "metadata": {
            "tags": []
          },
          "execution_count": 13
        }
      ]
    },
    {
      "cell_type": "markdown",
      "metadata": {
        "id": "qZyEjn8vXQzH",
        "colab_type": "text"
      },
      "source": [
        "Tractable- PTIME (Polynomial Time Solvable)\n",
        "\n",
        "Polynomial - expression where each term is n^k where k can be any whole number\n",
        "\n",
        "Polynomial Runtime - Runtime of the code should be a polynomial.\n",
        "polynomial of degree k where k is a constant, and since it is time n cannot be negative\n",
        "n: input space or dimension\n",
        "eg. O(n^4)\n",
        "n=1 => 1\n",
        "n=2 => 2^4\n",
        "n=3 => 3^4\n",
        "n=4 => 4^4\n",
        "\n",
        "O(n!)\n",
        "n*n-1*n-2*n-3*n-4*n-5*n-6  =>  It is not a polynomial - Non Polynomial Time (NP)\n",
        "\n"
      ]
    },
    {
      "cell_type": "code",
      "metadata": {
        "id": "Bm2xfmODWyDi",
        "colab_type": "code",
        "colab": {}
      },
      "source": [
        ""
      ],
      "execution_count": null,
      "outputs": []
    }
  ]
}