{
  "nbformat": 4,
  "nbformat_minor": 0,
  "metadata": {
    "colab": {
      "name": "CW_J024_08082020.ipynb",
      "provenance": [],
      "collapsed_sections": [],
      "authorship_tag": "ABX9TyPqXjWxb1PiCBtJDvNLsfbl",
      "include_colab_link": true
    },
    "kernelspec": {
      "name": "python3",
      "display_name": "Python 3"
    }
  },
  "cells": [
    {
      "cell_type": "markdown",
      "metadata": {
        "id": "view-in-github",
        "colab_type": "text"
      },
      "source": [
        "<a href=\"https://colab.research.google.com/github/pranavkotak8/AI/blob/master/CW/CW_J024_08082020.ipynb\" target=\"_parent\"><img src=\"https://colab.research.google.com/assets/colab-badge.svg\" alt=\"Open In Colab\"/></a>"
      ]
    },
    {
      "cell_type": "markdown",
      "metadata": {
        "id": "9jUGgxVgIpwP",
        "colab_type": "text"
      },
      "source": [
        "Algorithmic Complexity"
      ]
    },
    {
      "cell_type": "code",
      "metadata": {
        "id": "3JJoa6lnDRzL",
        "colab_type": "code",
        "colab": {
          "base_uri": "https://localhost:8080/",
          "height": 52
        },
        "outputId": "892905d1-1420-4c60-9d2e-57217e323d21"
      },
      "source": [
        "import timeit\n",
        "\n",
        "def fact(x):\n",
        "  fact=1\n",
        "  for i in range(x):\n",
        "    fact=fact*(i+1)\n",
        "\n",
        "  return fact\n",
        "\n",
        "%timeit (fact(5))"
      ],
      "execution_count": 17,
      "outputs": [
        {
          "output_type": "stream",
          "text": [
            "The slowest run took 4.84 times longer than the fastest. This could mean that an intermediate result is being cached.\n",
            "1000000 loops, best of 3: 507 ns per loop\n"
          ],
          "name": "stdout"
        }
      ]
    },
    {
      "cell_type": "code",
      "metadata": {
        "id": "MXMmdOK4F5f0",
        "colab_type": "code",
        "colab": {
          "base_uri": "https://localhost:8080/",
          "height": 35
        },
        "outputId": "0c26fdc6-9663-4f5b-90ff-f483b11dd92f"
      },
      "source": [
        "%timeit (fact(50))"
      ],
      "execution_count": 19,
      "outputs": [
        {
          "output_type": "stream",
          "text": [
            "100000 loops, best of 3: 3.77 µs per loop\n"
          ],
          "name": "stdout"
        }
      ]
    },
    {
      "cell_type": "code",
      "metadata": {
        "id": "UxLh_r76IYem",
        "colab_type": "code",
        "colab": {
          "base_uri": "https://localhost:8080/",
          "height": 35
        },
        "outputId": "e10b6a99-f141-47a5-b7ba-ed29aa5f822a"
      },
      "source": [
        "%timeit (fact(500))"
      ],
      "execution_count": 20,
      "outputs": [
        {
          "output_type": "stream",
          "text": [
            "10000 loops, best of 3: 75.4 µs per loop\n"
          ],
          "name": "stdout"
        }
      ]
    },
    {
      "cell_type": "code",
      "metadata": {
        "id": "8Do6JmUXIkNL",
        "colab_type": "code",
        "colab": {
          "base_uri": "https://localhost:8080/",
          "height": 35
        },
        "outputId": "b8216d46-12de-40bc-924b-cdec0b20ab98"
      },
      "source": [
        "%timeit (fact(1000))"
      ],
      "execution_count": 21,
      "outputs": [
        {
          "output_type": "stream",
          "text": [
            "1000 loops, best of 3: 242 µs per loop\n"
          ],
          "name": "stdout"
        }
      ]
    },
    {
      "cell_type": "code",
      "metadata": {
        "id": "59T0VNRkIdYd",
        "colab_type": "code",
        "colab": {}
      },
      "source": [
        "def sum(a,b):\n",
        "  return a+b"
      ],
      "execution_count": 31,
      "outputs": []
    },
    {
      "cell_type": "code",
      "metadata": {
        "id": "iEqEvQaYIhp3",
        "colab_type": "code",
        "colab": {
          "base_uri": "https://localhost:8080/",
          "height": 52
        },
        "outputId": "b9c607ac-022f-4219-943c-218d08877000"
      },
      "source": [
        "%timeit (sum(5,2))"
      ],
      "execution_count": 32,
      "outputs": [
        {
          "output_type": "stream",
          "text": [
            "The slowest run took 12.94 times longer than the fastest. This could mean that an intermediate result is being cached.\n",
            "10000000 loops, best of 3: 84.1 ns per loop\n"
          ],
          "name": "stdout"
        }
      ]
    },
    {
      "cell_type": "code",
      "metadata": {
        "id": "aNgEn8eeIl0O",
        "colab_type": "code",
        "colab": {
          "base_uri": "https://localhost:8080/",
          "height": 52
        },
        "outputId": "d0eb9860-1e04-4f07-a173-fd2dacbbd27d"
      },
      "source": [
        "%timeit (sum(50,200))"
      ],
      "execution_count": 33,
      "outputs": [
        {
          "output_type": "stream",
          "text": [
            "The slowest run took 20.88 times longer than the fastest. This could mean that an intermediate result is being cached.\n",
            "10000000 loops, best of 3: 84.6 ns per loop\n"
          ],
          "name": "stdout"
        }
      ]
    },
    {
      "cell_type": "code",
      "metadata": {
        "id": "cRPozqT_IsCe",
        "colab_type": "code",
        "colab": {
          "base_uri": "https://localhost:8080/",
          "height": 52
        },
        "outputId": "40997f34-853b-4dc8-c2c7-6a962fc649b3"
      },
      "source": [
        "%timeit (sum(500,2000))"
      ],
      "execution_count": 34,
      "outputs": [
        {
          "output_type": "stream",
          "text": [
            "The slowest run took 11.87 times longer than the fastest. This could mean that an intermediate result is being cached.\n",
            "10000000 loops, best of 3: 95.6 ns per loop\n"
          ],
          "name": "stdout"
        }
      ]
    },
    {
      "cell_type": "code",
      "metadata": {
        "id": "0-uUDtiFIoKh",
        "colab_type": "code",
        "colab": {}
      },
      "source": [
        "#NP problem - Solution is in non polynomial time\n",
        "#P(problem) - Solution is in polynomial time "
      ],
      "execution_count": null,
      "outputs": []
    },
    {
      "cell_type": "code",
      "metadata": {
        "id": "BDKyCG8AG_6Y",
        "colab_type": "code",
        "colab": {}
      },
      "source": [
        "NP(Problem) - Solution is in non polynomial time\n",
        "P(Problem) - Max Solution time or Upper Bound is in Polynomial Time O(n^4) -> log n =[](is log n polynomial time or not ?)\n",
        "             (n*logn)\n",
        "              log 50(base10) - 1.69 ()<n^1\n",
        "              log 500(base10) - 2.69 ()<n^1\n",
        "              log 5000(base10) - 3.69 ()<n^1\n",
        "              for non linear change in n , change is linear\n",
        "\n",
        "NP () - n!\n",
        "        5!   120 -> <5^3\n",
        "        50!  3.0414093e+64 microsecs -> days -> 3.5201497e+53 days\n",
        "        500! \n",
        "        5000!\n",
        "\n",
        "\n",
        "NP Complete - > All NP hard problems can be approximated to the problem then it is NP Complete. \n",
        "NP hard - > A problem is NP Hard if its solution is in NP, Cannot be verified in Polynomial Time\n",
        "            \n"
      ],
      "execution_count": null,
      "outputs": []
    }
  ]
}