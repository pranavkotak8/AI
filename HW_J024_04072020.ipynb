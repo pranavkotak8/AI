{
  "nbformat": 4,
  "nbformat_minor": 0,
  "metadata": {
    "colab": {
      "name": "HW_J024_04072020.ipynb",
      "provenance": [],
      "collapsed_sections": [],
      "authorship_tag": "ABX9TyP0iOwmFlcC6nn76R7D7Vih"
    },
    "kernelspec": {
      "name": "python3",
      "display_name": "Python 3"
    }
  },
  "cells": [
    {
      "cell_type": "markdown",
      "metadata": {
        "id": "IaCvep0wO1f-",
        "colab_type": "text"
      },
      "source": [
        "**Assignment 1**"
      ]
    },
    {
      "cell_type": "markdown",
      "metadata": {
        "id": "u8k1pNETO_ms",
        "colab_type": "text"
      },
      "source": [
        " 1. **Say \"Hello, World!\" With Python**"
      ]
    },
    {
      "cell_type": "code",
      "metadata": {
        "id": "G5hFhlK1k3Pq",
        "colab_type": "code",
        "colab": {
          "base_uri": "https://localhost:8080/",
          "height": 34
        },
        "outputId": "4b153c69-5068-48e2-85b8-1f130ba25a78"
      },
      "source": [
        "print(\"Hello, World!\")"
      ],
      "execution_count": null,
      "outputs": [
        {
          "output_type": "stream",
          "text": [
            "Hello, World!\n"
          ],
          "name": "stdout"
        }
      ]
    },
    {
      "cell_type": "markdown",
      "metadata": {
        "id": "kP6DoXppPNZa",
        "colab_type": "text"
      },
      "source": [
        "2. **Python If-Else**"
      ]
    },
    {
      "cell_type": "code",
      "metadata": {
        "id": "3LCCcKp6k3VI",
        "colab_type": "code",
        "colab": {
          "base_uri": "https://localhost:8080/",
          "height": 50
        },
        "outputId": "99c2b856-4669-4019-fd06-feb9a4e5f67d"
      },
      "source": [
        "#!/bin/python3\n",
        "\n",
        "import math\n",
        "import os\n",
        "import random\n",
        "import re\n",
        "import sys\n",
        "\n",
        "\n",
        "n=int(input())\n",
        "\n",
        "if n%2 != 0:\n",
        "    print(\"Weird\")\n",
        "elif n%2 == 0 and n>=2 and n<=5:\n",
        "    print(\"Not Weird\")\n",
        "elif n%2 == 0 and n>=6 and n<=20:\n",
        "    print(\"Weird\")\n",
        "elif n%2 == 0 and n>=20:\n",
        "    print(\"Not Weird\")\n"
      ],
      "execution_count": null,
      "outputs": [
        {
          "output_type": "stream",
          "text": [
            "42\n",
            "Not Weird\n"
          ],
          "name": "stdout"
        }
      ]
    },
    {
      "cell_type": "markdown",
      "metadata": {
        "id": "sF_JFA9oPTO8",
        "colab_type": "text"
      },
      "source": [
        "3. **Arithmetic Operators**"
      ]
    },
    {
      "cell_type": "code",
      "metadata": {
        "id": "GY-sPsnKk3ab",
        "colab_type": "code",
        "colab": {
          "base_uri": "https://localhost:8080/",
          "height": 101
        },
        "outputId": "bde919bc-0c71-411b-8c1a-b00ae12c2d11"
      },
      "source": [
        "if __name__ == '__main__':\n",
        "    a = int(input())\n",
        "    b = int(input())\n",
        "\n",
        "print(a+b)\n",
        "print(a-b)\n",
        "print(a*b)"
      ],
      "execution_count": null,
      "outputs": [
        {
          "output_type": "stream",
          "text": [
            "5\n",
            "6\n",
            "11\n",
            "-1\n",
            "30\n"
          ],
          "name": "stdout"
        }
      ]
    },
    {
      "cell_type": "markdown",
      "metadata": {
        "id": "ZshX2HyrPYj7",
        "colab_type": "text"
      },
      "source": [
        "4. **Python: Division**"
      ]
    },
    {
      "cell_type": "code",
      "metadata": {
        "id": "NeKfIxJ3reuP",
        "colab_type": "code",
        "colab": {
          "base_uri": "https://localhost:8080/",
          "height": 84
        },
        "outputId": "a8e3da2b-3e48-448c-dc14-e0b800e4a4c1"
      },
      "source": [
        "if __name__ == '__main__':\n",
        "    a = int(input())\n",
        "    b = int(input())\n",
        "\n",
        "print(a//b)\n",
        "print(a/b)"
      ],
      "execution_count": null,
      "outputs": [
        {
          "output_type": "stream",
          "text": [
            "96\n",
            "45\n",
            "2\n",
            "2.1333333333333333\n"
          ],
          "name": "stdout"
        }
      ]
    },
    {
      "cell_type": "markdown",
      "metadata": {
        "id": "dH7z_SM3PfUq",
        "colab_type": "text"
      },
      "source": [
        " 5.**Loops**"
      ]
    },
    {
      "cell_type": "code",
      "metadata": {
        "id": "eUjaT6OlsCbF",
        "colab_type": "code",
        "colab": {
          "base_uri": "https://localhost:8080/",
          "height": 168
        },
        "outputId": "3c8fd174-e50f-40a0-b9cd-805a25aaa6ad"
      },
      "source": [
        "if __name__ == '__main__':\n",
        "    n = int(input())\n",
        "\n",
        "for i in range(n):\n",
        "    print(i*i)"
      ],
      "execution_count": null,
      "outputs": [
        {
          "output_type": "stream",
          "text": [
            "8\n",
            "0\n",
            "1\n",
            "4\n",
            "9\n",
            "16\n",
            "25\n",
            "36\n",
            "49\n"
          ],
          "name": "stdout"
        }
      ]
    },
    {
      "cell_type": "markdown",
      "metadata": {
        "id": "LFHUsxZgPnSz",
        "colab_type": "text"
      },
      "source": [
        "6. **Print Function**"
      ]
    },
    {
      "cell_type": "code",
      "metadata": {
        "id": "AJ9tv4rYu8TS",
        "colab_type": "code",
        "colab": {
          "base_uri": "https://localhost:8080/",
          "height": 50
        },
        "outputId": "d96fda51-8b83-45ed-85ca-3007b908c2b4"
      },
      "source": [
        "if __name__ == '__main__':\n",
        "    n = int(input())\n",
        "\n",
        "for i in range(1,n+1):\n",
        "    print(i,end=\"\")\n",
        "\n"
      ],
      "execution_count": null,
      "outputs": [
        {
          "output_type": "stream",
          "text": [
            "4\n",
            "1234"
          ],
          "name": "stdout"
        }
      ]
    },
    {
      "cell_type": "markdown",
      "metadata": {
        "id": "O02o-LdCPscD",
        "colab_type": "text"
      },
      "source": [
        "7. **List Comprehensions**"
      ]
    },
    {
      "cell_type": "code",
      "metadata": {
        "id": "RoGeU-fyvreU",
        "colab_type": "code",
        "colab": {
          "base_uri": "https://localhost:8080/",
          "height": 101
        },
        "outputId": "4ac0191d-49a6-4e8b-d3e0-826b104a6119"
      },
      "source": [
        "if __name__ == '__main__':\n",
        "    x = int(input())\n",
        "    y = int(input())\n",
        "    z = int(input())\n",
        "    n = int(input())\n",
        "\n",
        "a=[[i,j,k] for i in range(0,x+1) for j in range(0,y+1) for k in range(0,z+1) if (i+j+k) != n]\n",
        "print(a)"
      ],
      "execution_count": null,
      "outputs": [
        {
          "output_type": "stream",
          "text": [
            "1\n",
            "1\n",
            "1\n",
            "2\n",
            "[[0, 0, 0], [0, 0, 1], [0, 1, 0], [1, 0, 0], [1, 1, 1]]\n"
          ],
          "name": "stdout"
        }
      ]
    },
    {
      "cell_type": "code",
      "metadata": {
        "id": "1z4BzAeMvrg0",
        "colab_type": "code",
        "colab": {}
      },
      "source": [
        ""
      ],
      "execution_count": null,
      "outputs": []
    }
  ]
}